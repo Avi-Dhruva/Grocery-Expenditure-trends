{
  "cells": [
    {
      "cell_type": "code",
      "execution_count": null,
      "id": "5ed1a654",
      "metadata": {
        "id": "5ed1a654"
      },
      "outputs": [],
      "source": [
        "import pandas as pd\n",
        "import matplotlib.pyplot as plt\n",
        "import statsmodels.formula.api as smf\n",
        "import seaborn as sb\n",
        "import numpy as np"
      ]
    },
    {
      "cell_type": "code",
      "execution_count": null,
      "id": "3ff4e217",
      "metadata": {
        "id": "3ff4e217",
        "outputId": "7f86205d-4510-4c18-debc-4e5b135d8890"
      },
      "outputs": [
        {
          "data": {
            "text/html": [
              "<div>\n",
              "<style scoped>\n",
              "    .dataframe tbody tr th:only-of-type {\n",
              "        vertical-align: middle;\n",
              "    }\n",
              "\n",
              "    .dataframe tbody tr th {\n",
              "        vertical-align: top;\n",
              "    }\n",
              "\n",
              "    .dataframe thead th {\n",
              "        text-align: right;\n",
              "    }\n",
              "</style>\n",
              "<table border=\"1\" class=\"dataframe\">\n",
              "  <thead>\n",
              "    <tr style=\"text-align: right;\">\n",
              "      <th></th>\n",
              "      <th>Unnamed: 0</th>\n",
              "      <th>Weekly_Expenditure</th>\n",
              "      <th>Weekly_Shopping</th>\n",
              "      <th>Destination_Time</th>\n",
              "      <th>Spending_Eating</th>\n",
              "      <th>reason_Distance</th>\n",
              "      <th>reason_Grocery_Selection</th>\n",
              "      <th>reason_Customer_Service</th>\n",
              "      <th>reason_Price</th>\n",
              "      <th>reason_Parking</th>\n",
              "      <th>...</th>\n",
              "      <th>Priority_Health</th>\n",
              "      <th>Priority_Convenience</th>\n",
              "      <th>Priority_Variety</th>\n",
              "      <th>Category_Food</th>\n",
              "      <th>Employment</th>\n",
              "      <th>Buying_Role</th>\n",
              "      <th>Age</th>\n",
              "      <th>Gender</th>\n",
              "      <th>Average_Income</th>\n",
              "      <th>Household_Members</th>\n",
              "    </tr>\n",
              "  </thead>\n",
              "  <tbody>\n",
              "    <tr>\n",
              "      <th>0</th>\n",
              "      <td>3</td>\n",
              "      <td>50.0</td>\n",
              "      <td>1.0</td>\n",
              "      <td>10 - 20</td>\n",
              "      <td>$60 - $89</td>\n",
              "      <td>Distance</td>\n",
              "      <td>Grocery Selection</td>\n",
              "      <td>0</td>\n",
              "      <td>Price</td>\n",
              "      <td>0</td>\n",
              "      <td>...</td>\n",
              "      <td>2.0</td>\n",
              "      <td>3.0</td>\n",
              "      <td>6.0</td>\n",
              "      <td>Frozen Food</td>\n",
              "      <td>Employed Full Time</td>\n",
              "      <td>I make the decisions</td>\n",
              "      <td>21.0</td>\n",
              "      <td>Male</td>\n",
              "      <td>$75K - $100K</td>\n",
              "      <td>2.0</td>\n",
              "    </tr>\n",
              "    <tr>\n",
              "      <th>1</th>\n",
              "      <td>4</td>\n",
              "      <td>70.0</td>\n",
              "      <td>1.0</td>\n",
              "      <td>10 - 20</td>\n",
              "      <td>$90 - $119</td>\n",
              "      <td>Distance</td>\n",
              "      <td>Grocery Selection</td>\n",
              "      <td>0</td>\n",
              "      <td>Price</td>\n",
              "      <td>0</td>\n",
              "      <td>...</td>\n",
              "      <td>3.0</td>\n",
              "      <td>5.0</td>\n",
              "      <td>6.0</td>\n",
              "      <td>Fresh Produce</td>\n",
              "      <td>Student</td>\n",
              "      <td>I make the decisions</td>\n",
              "      <td>22.0</td>\n",
              "      <td>Male</td>\n",
              "      <td>$25k - $50k</td>\n",
              "      <td>1.0</td>\n",
              "    </tr>\n",
              "    <tr>\n",
              "      <th>2</th>\n",
              "      <td>5</td>\n",
              "      <td>50.0</td>\n",
              "      <td>1.0</td>\n",
              "      <td>10 - 20</td>\n",
              "      <td>$90 - $119</td>\n",
              "      <td>0</td>\n",
              "      <td>Grocery Selection</td>\n",
              "      <td>0</td>\n",
              "      <td>0</td>\n",
              "      <td>0</td>\n",
              "      <td>...</td>\n",
              "      <td>5.0</td>\n",
              "      <td>2.0</td>\n",
              "      <td>3.0</td>\n",
              "      <td>Fresh Produce</td>\n",
              "      <td>Student</td>\n",
              "      <td>I make the decisions</td>\n",
              "      <td>22.0</td>\n",
              "      <td>Female</td>\n",
              "      <td>$25k - $50k</td>\n",
              "      <td>1.0</td>\n",
              "    </tr>\n",
              "    <tr>\n",
              "      <th>3</th>\n",
              "      <td>6</td>\n",
              "      <td>100.0</td>\n",
              "      <td>2.0</td>\n",
              "      <td>5 - 10</td>\n",
              "      <td>$60 - $89</td>\n",
              "      <td>Distance</td>\n",
              "      <td>0</td>\n",
              "      <td>0</td>\n",
              "      <td>0</td>\n",
              "      <td>0</td>\n",
              "      <td>...</td>\n",
              "      <td>4.0</td>\n",
              "      <td>2.0</td>\n",
              "      <td>6.0</td>\n",
              "      <td>Fresh Produce</td>\n",
              "      <td>Student</td>\n",
              "      <td>I make the decisions</td>\n",
              "      <td>22.0</td>\n",
              "      <td>Female</td>\n",
              "      <td>$0 - $25K</td>\n",
              "      <td>1.0</td>\n",
              "    </tr>\n",
              "    <tr>\n",
              "      <th>4</th>\n",
              "      <td>7</td>\n",
              "      <td>100.0</td>\n",
              "      <td>2.0</td>\n",
              "      <td>5 - 10</td>\n",
              "      <td>$90 - $119</td>\n",
              "      <td>Distance</td>\n",
              "      <td>Grocery Selection</td>\n",
              "      <td>0</td>\n",
              "      <td>0</td>\n",
              "      <td>0</td>\n",
              "      <td>...</td>\n",
              "      <td>1.0</td>\n",
              "      <td>5.0</td>\n",
              "      <td>6.0</td>\n",
              "      <td>Fresh Produce</td>\n",
              "      <td>Employed Full Time</td>\n",
              "      <td>I make the decisions</td>\n",
              "      <td>24.0</td>\n",
              "      <td>Female</td>\n",
              "      <td>$50K - $75K</td>\n",
              "      <td>1.0</td>\n",
              "    </tr>\n",
              "  </tbody>\n",
              "</table>\n",
              "<p>5 rows × 28 columns</p>\n",
              "</div>"
            ],
            "text/plain": [
              "   Unnamed: 0  Weekly_Expenditure  Weekly_Shopping Destination_Time  \\\n",
              "0           3                50.0              1.0          10 - 20   \n",
              "1           4                70.0              1.0          10 - 20   \n",
              "2           5                50.0              1.0          10 - 20   \n",
              "3           6               100.0              2.0           5 - 10   \n",
              "4           7               100.0              2.0           5 - 10   \n",
              "\n",
              "  Spending_Eating reason_Distance reason_Grocery_Selection  \\\n",
              "0       $60 - $89        Distance        Grocery Selection   \n",
              "1      $90 - $119        Distance        Grocery Selection   \n",
              "2      $90 - $119               0        Grocery Selection   \n",
              "3       $60 - $89        Distance                        0   \n",
              "4      $90 - $119        Distance        Grocery Selection   \n",
              "\n",
              "  reason_Customer_Service reason_Price reason_Parking  ... Priority_Health  \\\n",
              "0                       0        Price              0  ...             2.0   \n",
              "1                       0        Price              0  ...             3.0   \n",
              "2                       0            0              0  ...             5.0   \n",
              "3                       0            0              0  ...             4.0   \n",
              "4                       0            0              0  ...             1.0   \n",
              "\n",
              "  Priority_Convenience Priority_Variety  Category_Food          Employment  \\\n",
              "0                  3.0              6.0    Frozen Food  Employed Full Time   \n",
              "1                  5.0              6.0  Fresh Produce             Student   \n",
              "2                  2.0              3.0  Fresh Produce             Student   \n",
              "3                  2.0              6.0  Fresh Produce             Student   \n",
              "4                  5.0              6.0  Fresh Produce  Employed Full Time   \n",
              "\n",
              "            Buying_Role   Age  Gender  Average_Income  Household_Members  \n",
              "0  I make the decisions  21.0    Male    $75K - $100K                2.0  \n",
              "1  I make the decisions  22.0    Male     $25k - $50k                1.0  \n",
              "2  I make the decisions  22.0  Female     $25k - $50k                1.0  \n",
              "3  I make the decisions  22.0  Female       $0 - $25K                1.0  \n",
              "4  I make the decisions  24.0  Female     $50K - $75K                1.0  \n",
              "\n",
              "[5 rows x 28 columns]"
            ]
          },
          "execution_count": 3,
          "metadata": {},
          "output_type": "execute_result"
        }
      ],
      "source": [
        "path = './BA 222/BA Project/Clean Data/CleanData.csv'\n",
        "cleanData = pd.read_csv(path)\n",
        "cleanData.head()"
      ]
    },
    {
      "cell_type": "code",
      "execution_count": null,
      "id": "cab5eca2",
      "metadata": {
        "id": "cab5eca2",
        "outputId": "e57a80e8-8cd4-4bd5-cfb1-dc9ec84f322a"
      },
      "outputs": [
        {
          "data": {
            "text/plain": [
              "Index(['Unnamed: 0', 'Weekly_Expenditure', 'Weekly_Shopping',\n",
              "       'Destination_Time', 'Spending_Eating', 'reason_Distance',\n",
              "       'reason_Grocery_Selection', 'reason_Customer_Service', 'reason_Price',\n",
              "       'reason_Parking', 'reason_Online_Shopping', 'reason_Deals',\n",
              "       'Multiple_Shoppers', 'Is_Online_Accessible', 'More_Online_Accessible',\n",
              "       'Priority_Price', 'Priority_Service', 'Priority_QOP', 'Priority_Health',\n",
              "       'Priority_Convenience', 'Priority_Variety', 'Category_Food',\n",
              "       'Employment', 'Buying_Role', 'Age', 'Gender', 'Average_Income',\n",
              "       'Household_Members'],\n",
              "      dtype='object')"
            ]
          },
          "execution_count": 12,
          "metadata": {},
          "output_type": "execute_result"
        }
      ],
      "source": [
        "cleanData.columns"
      ]
    },
    {
      "cell_type": "code",
      "execution_count": null,
      "id": "b53fef43",
      "metadata": {
        "id": "b53fef43"
      },
      "outputs": [],
      "source": [
        "WE = cleanData.Weekly_Expenditure\n",
        "Weekly_Expenditure_Summary = WE.describe()\n"
      ]
    },
    {
      "cell_type": "code",
      "execution_count": null,
      "id": "8766ea4c",
      "metadata": {
        "id": "8766ea4c"
      },
      "outputs": [],
      "source": [
        "WS = cleanData.Weekly_Shopping\n",
        "Weekly_Shopping = WS.describe()\n"
      ]
    },
    {
      "cell_type": "code",
      "execution_count": null,
      "id": "356734f4",
      "metadata": {
        "id": "356734f4"
      },
      "outputs": [],
      "source": [
        "IOA = cleanData.Is_Online_Accessible\n",
        "Is_Online_Accessible = IOA.describe()\n"
      ]
    },
    {
      "cell_type": "code",
      "execution_count": null,
      "id": "9fce1c54",
      "metadata": {
        "id": "9fce1c54"
      },
      "outputs": [],
      "source": [
        "MOA = cleanData.More_Online_Accessible\n",
        "More_Online_Accessible = MOA.describe()\n"
      ]
    },
    {
      "cell_type": "code",
      "execution_count": null,
      "id": "b2fd8f89",
      "metadata": {
        "id": "b2fd8f89"
      },
      "outputs": [],
      "source": [
        "Age = cleanData.Age\n",
        "Age = Age.describe()\n"
      ]
    },
    {
      "cell_type": "code",
      "execution_count": null,
      "id": "aee7e5ea",
      "metadata": {
        "id": "aee7e5ea"
      },
      "outputs": [],
      "source": [
        "HM = cleanData.Household_Members\n",
        "Household_Members = HM.describe()\n"
      ]
    },
    {
      "cell_type": "code",
      "execution_count": null,
      "id": "a2e95c8d",
      "metadata": {
        "id": "a2e95c8d"
      },
      "outputs": [],
      "source": [
        "DT = cleanData.Destination_Time\n",
        "Relative_Frequency_Destination_Time = DT.value_counts(normalize = True, ascending = True)\n"
      ]
    },
    {
      "cell_type": "code",
      "execution_count": null,
      "id": "422a412d",
      "metadata": {
        "id": "422a412d"
      },
      "outputs": [],
      "source": [
        "SE = cleanData.Spending_Eating\n",
        "Relative_Frequency_Spending_Eating = SE.value_counts(normalize = True, ascending = True)\n"
      ]
    },
    {
      "cell_type": "code",
      "execution_count": null,
      "id": "1b572ef5",
      "metadata": {
        "id": "1b572ef5",
        "outputId": "754fdbd4-0494-4bfb-984c-9c49b81a477a"
      },
      "outputs": [
        {
          "name": "stdout",
          "output_type": "stream",
          "text": [
            "0           0.222222\n",
            "Distance    0.777778\n",
            "Name: reason_Distance, dtype: float64\n",
            "0                    0.333333\n",
            "Grocery Selection    0.666667\n",
            "Name: reason_Grocery_Selection, dtype: float64\n",
            "Customer Service    0.092593\n",
            "0                   0.907407\n",
            "Name: reason_Customer_Service, dtype: float64\n",
            "Price    0.462963\n",
            "0        0.537037\n",
            "Name: reason_Price, dtype: float64\n",
            "Parking    0.018519\n",
            "0          0.981481\n",
            "Name: reason_Parking, dtype: float64\n",
            "Online Shopping    0.092593\n",
            "0                  0.907407\n",
            "Name: reason_Online_Shopping, dtype: float64\n",
            "Deals    0.111111\n",
            "0        0.888889\n",
            "Name: reason_Deals, dtype: float64\n"
          ]
        }
      ],
      "source": [
        "RD = cleanData.reason_Distance\n",
        "print(RD.value_counts(normalize = True, ascending = True))\n",
        "\n",
        "RGS = cleanData.reason_Grocery_Selection\n",
        "print(RGS.value_counts(normalize = True, ascending = True))\n",
        "\n",
        "RCS = cleanData.reason_Customer_Service\n",
        "print(RCS.value_counts(normalize = True, ascending = True))\n",
        "\n",
        "RP = cleanData.reason_Price\n",
        "print(RP.value_counts(normalize = True, ascending = True))\n",
        "\n",
        "RPa = cleanData.reason_Parking\n",
        "print(RPa.value_counts(normalize = True, ascending = True))\n",
        "\n",
        "ROS = cleanData.reason_Online_Shopping\n",
        "print(ROS.value_counts(normalize = True, ascending = True))\n",
        "\n",
        "RDe = cleanData.reason_Deals\n",
        "print(RDe.value_counts(normalize = True, ascending = True))"
      ]
    },
    {
      "cell_type": "code",
      "execution_count": null,
      "id": "ffc6141c",
      "metadata": {
        "id": "ffc6141c"
      },
      "outputs": [],
      "source": [
        "MS = cleanData.Multiple_Shoppers\n",
        "Relative_Frequency_Multiple_Shoppers = MS.value_counts(normalize = True, ascending = True)\n"
      ]
    },
    {
      "cell_type": "code",
      "execution_count": null,
      "id": "72fbeffd",
      "metadata": {
        "id": "72fbeffd",
        "outputId": "0ee5682b-72aa-4f1f-e67a-016413982829"
      },
      "outputs": [
        {
          "name": "stdout",
          "output_type": "stream",
          "text": [
            "2.314814814814815\n",
            "2.3333333333333335\n",
            "4.351851851851852\n",
            "2.925925925925926\n",
            "4.055555555555555\n",
            "5.018518518518518\n"
          ]
        }
      ],
      "source": [
        "print(cleanData.Priority_Price.mean())\n",
        "print(cleanData.Priority_Service.mean())\n",
        "print(cleanData.Priority_QOP.mean())\n",
        "print(cleanData.Priority_Health.mean())\n",
        "print(cleanData.Priority_Convenience.mean())\n",
        "print(cleanData.Priority_Variety.mean())"
      ]
    },
    {
      "cell_type": "code",
      "execution_count": null,
      "id": "d958d70b",
      "metadata": {
        "id": "d958d70b"
      },
      "outputs": [],
      "source": [
        "CF = cleanData.Category_Food\n",
        "Relative_Frequency_Category_Food = CF.value_counts(normalize = True, ascending = True)\n"
      ]
    },
    {
      "cell_type": "code",
      "execution_count": null,
      "id": "2f4a8dc9",
      "metadata": {
        "id": "2f4a8dc9"
      },
      "outputs": [],
      "source": [
        "E = cleanData.Employment\n",
        "Relative_Frequency_Employment = E.value_counts(normalize = True, ascending = True)\n"
      ]
    },
    {
      "cell_type": "code",
      "execution_count": null,
      "id": "a57aa995",
      "metadata": {
        "id": "a57aa995"
      },
      "outputs": [],
      "source": [
        "BR = cleanData.Buying_Role\n",
        "Relative_Frequency_Buying_Role = BR.value_counts(normalize = True, ascending = True)\n"
      ]
    },
    {
      "cell_type": "code",
      "execution_count": null,
      "id": "7e08426d",
      "metadata": {
        "id": "7e08426d"
      },
      "outputs": [],
      "source": [
        "G = cleanData.Gender\n",
        "Relative_Frequency_Gender = G.value_counts(normalize = True, ascending = True)\n"
      ]
    },
    {
      "cell_type": "code",
      "execution_count": null,
      "id": "115b10b6",
      "metadata": {
        "id": "115b10b6"
      },
      "outputs": [],
      "source": [
        "AI = cleanData.Average_Income\n",
        "Relative_Frequency_Average_Income = AI.value_counts(normalize = True, ascending = True)\n"
      ]
    },
    {
      "cell_type": "code",
      "execution_count": null,
      "id": "cb79c127",
      "metadata": {
        "id": "cb79c127"
      },
      "outputs": [],
      "source": [
        "CorrMatrix = cleanData.corr()\n"
      ]
    },
    {
      "cell_type": "code",
      "execution_count": null,
      "id": "e43f4109",
      "metadata": {
        "id": "e43f4109"
      },
      "outputs": [],
      "source": [
        "MissingData = cleanData.isna().sum()/len(cleanData)\n"
      ]
    },
    {
      "cell_type": "code",
      "execution_count": null,
      "id": "dcf7f1ff",
      "metadata": {
        "id": "dcf7f1ff",
        "outputId": "8cd2aaff-4a3a-4197-ae25-5b07d3ca2e7f"
      },
      "outputs": [
        {
          "data": {
            "text/html": [
              "<div>\n",
              "<style scoped>\n",
              "    .dataframe tbody tr th:only-of-type {\n",
              "        vertical-align: middle;\n",
              "    }\n",
              "\n",
              "    .dataframe tbody tr th {\n",
              "        vertical-align: top;\n",
              "    }\n",
              "\n",
              "    .dataframe thead th {\n",
              "        text-align: right;\n",
              "    }\n",
              "</style>\n",
              "<table border=\"1\" class=\"dataframe\">\n",
              "  <thead>\n",
              "    <tr style=\"text-align: right;\">\n",
              "      <th></th>\n",
              "      <th>Unnamed: 0</th>\n",
              "      <th>Weekly_Expenditure</th>\n",
              "      <th>Weekly_Shopping</th>\n",
              "      <th>Destination_Time</th>\n",
              "      <th>Spending_Eating</th>\n",
              "      <th>reason_Distance</th>\n",
              "      <th>reason_Grocery_Selection</th>\n",
              "      <th>reason_Customer_Service</th>\n",
              "      <th>reason_Price</th>\n",
              "      <th>reason_Parking</th>\n",
              "      <th>...</th>\n",
              "      <th>Priority_Health</th>\n",
              "      <th>Priority_Convenience</th>\n",
              "      <th>Priority_Variety</th>\n",
              "      <th>Category_Food</th>\n",
              "      <th>Employment</th>\n",
              "      <th>Buying_Role</th>\n",
              "      <th>Age</th>\n",
              "      <th>Gender</th>\n",
              "      <th>Average_Income</th>\n",
              "      <th>Household_Members</th>\n",
              "    </tr>\n",
              "  </thead>\n",
              "  <tbody>\n",
              "    <tr>\n",
              "      <th>0</th>\n",
              "      <td>3</td>\n",
              "      <td>50.0</td>\n",
              "      <td>1.0</td>\n",
              "      <td>10 - 20</td>\n",
              "      <td>$60 - $89</td>\n",
              "      <td>Distance</td>\n",
              "      <td>Grocery Selection</td>\n",
              "      <td>0</td>\n",
              "      <td>Price</td>\n",
              "      <td>0</td>\n",
              "      <td>...</td>\n",
              "      <td>2.0</td>\n",
              "      <td>3.0</td>\n",
              "      <td>6.0</td>\n",
              "      <td>Frozen Food</td>\n",
              "      <td>Employed Full Time</td>\n",
              "      <td>I make the decisions</td>\n",
              "      <td>21.0</td>\n",
              "      <td>Male</td>\n",
              "      <td>$75K - $100K</td>\n",
              "      <td>2.0</td>\n",
              "    </tr>\n",
              "    <tr>\n",
              "      <th>1</th>\n",
              "      <td>4</td>\n",
              "      <td>70.0</td>\n",
              "      <td>1.0</td>\n",
              "      <td>10 - 20</td>\n",
              "      <td>$90 - $119</td>\n",
              "      <td>Distance</td>\n",
              "      <td>Grocery Selection</td>\n",
              "      <td>0</td>\n",
              "      <td>Price</td>\n",
              "      <td>0</td>\n",
              "      <td>...</td>\n",
              "      <td>3.0</td>\n",
              "      <td>5.0</td>\n",
              "      <td>6.0</td>\n",
              "      <td>Fresh Produce</td>\n",
              "      <td>Student</td>\n",
              "      <td>I make the decisions</td>\n",
              "      <td>22.0</td>\n",
              "      <td>Male</td>\n",
              "      <td>$25k - $50k</td>\n",
              "      <td>1.0</td>\n",
              "    </tr>\n",
              "    <tr>\n",
              "      <th>2</th>\n",
              "      <td>5</td>\n",
              "      <td>50.0</td>\n",
              "      <td>1.0</td>\n",
              "      <td>10 - 20</td>\n",
              "      <td>$90 - $119</td>\n",
              "      <td>0</td>\n",
              "      <td>Grocery Selection</td>\n",
              "      <td>0</td>\n",
              "      <td>0</td>\n",
              "      <td>0</td>\n",
              "      <td>...</td>\n",
              "      <td>5.0</td>\n",
              "      <td>2.0</td>\n",
              "      <td>3.0</td>\n",
              "      <td>Fresh Produce</td>\n",
              "      <td>Student</td>\n",
              "      <td>I make the decisions</td>\n",
              "      <td>22.0</td>\n",
              "      <td>Female</td>\n",
              "      <td>$25k - $50k</td>\n",
              "      <td>1.0</td>\n",
              "    </tr>\n",
              "    <tr>\n",
              "      <th>3</th>\n",
              "      <td>6</td>\n",
              "      <td>100.0</td>\n",
              "      <td>2.0</td>\n",
              "      <td>5 - 10</td>\n",
              "      <td>$60 - $89</td>\n",
              "      <td>Distance</td>\n",
              "      <td>0</td>\n",
              "      <td>0</td>\n",
              "      <td>0</td>\n",
              "      <td>0</td>\n",
              "      <td>...</td>\n",
              "      <td>4.0</td>\n",
              "      <td>2.0</td>\n",
              "      <td>6.0</td>\n",
              "      <td>Fresh Produce</td>\n",
              "      <td>Student</td>\n",
              "      <td>I make the decisions</td>\n",
              "      <td>22.0</td>\n",
              "      <td>Female</td>\n",
              "      <td>$0 - $25K</td>\n",
              "      <td>1.0</td>\n",
              "    </tr>\n",
              "    <tr>\n",
              "      <th>4</th>\n",
              "      <td>7</td>\n",
              "      <td>100.0</td>\n",
              "      <td>2.0</td>\n",
              "      <td>5 - 10</td>\n",
              "      <td>$90 - $119</td>\n",
              "      <td>Distance</td>\n",
              "      <td>Grocery Selection</td>\n",
              "      <td>0</td>\n",
              "      <td>0</td>\n",
              "      <td>0</td>\n",
              "      <td>...</td>\n",
              "      <td>1.0</td>\n",
              "      <td>5.0</td>\n",
              "      <td>6.0</td>\n",
              "      <td>Fresh Produce</td>\n",
              "      <td>Employed Full Time</td>\n",
              "      <td>I make the decisions</td>\n",
              "      <td>24.0</td>\n",
              "      <td>Female</td>\n",
              "      <td>$50K - $75K</td>\n",
              "      <td>1.0</td>\n",
              "    </tr>\n",
              "  </tbody>\n",
              "</table>\n",
              "<p>5 rows × 28 columns</p>\n",
              "</div>"
            ],
            "text/plain": [
              "   Unnamed: 0  Weekly_Expenditure  Weekly_Shopping Destination_Time  \\\n",
              "0           3                50.0              1.0          10 - 20   \n",
              "1           4                70.0              1.0          10 - 20   \n",
              "2           5                50.0              1.0          10 - 20   \n",
              "3           6               100.0              2.0           5 - 10   \n",
              "4           7               100.0              2.0           5 - 10   \n",
              "\n",
              "  Spending_Eating reason_Distance reason_Grocery_Selection  \\\n",
              "0       $60 - $89        Distance        Grocery Selection   \n",
              "1      $90 - $119        Distance        Grocery Selection   \n",
              "2      $90 - $119               0        Grocery Selection   \n",
              "3       $60 - $89        Distance                        0   \n",
              "4      $90 - $119        Distance        Grocery Selection   \n",
              "\n",
              "  reason_Customer_Service reason_Price reason_Parking  ... Priority_Health  \\\n",
              "0                       0        Price              0  ...             2.0   \n",
              "1                       0        Price              0  ...             3.0   \n",
              "2                       0            0              0  ...             5.0   \n",
              "3                       0            0              0  ...             4.0   \n",
              "4                       0            0              0  ...             1.0   \n",
              "\n",
              "  Priority_Convenience Priority_Variety  Category_Food          Employment  \\\n",
              "0                  3.0              6.0    Frozen Food  Employed Full Time   \n",
              "1                  5.0              6.0  Fresh Produce             Student   \n",
              "2                  2.0              3.0  Fresh Produce             Student   \n",
              "3                  2.0              6.0  Fresh Produce             Student   \n",
              "4                  5.0              6.0  Fresh Produce  Employed Full Time   \n",
              "\n",
              "            Buying_Role   Age  Gender  Average_Income  Household_Members  \n",
              "0  I make the decisions  21.0    Male    $75K - $100K                2.0  \n",
              "1  I make the decisions  22.0    Male     $25k - $50k                1.0  \n",
              "2  I make the decisions  22.0  Female     $25k - $50k                1.0  \n",
              "3  I make the decisions  22.0  Female       $0 - $25K                1.0  \n",
              "4  I make the decisions  24.0  Female     $50K - $75K                1.0  \n",
              "\n",
              "[5 rows x 28 columns]"
            ]
          },
          "execution_count": 50,
          "metadata": {},
          "output_type": "execute_result"
        }
      ],
      "source": [
        "cleanData.head()\n"
      ]
    },
    {
      "cell_type": "code",
      "execution_count": null,
      "id": "7042ca5a",
      "metadata": {
        "id": "7042ca5a"
      },
      "outputs": [],
      "source": [
        "Weekly_Expenditure_by_Gender = cleanData[['Gender','Weekly_Expenditure']].groupby('Gender').agg('mean')\n"
      ]
    },
    {
      "cell_type": "code",
      "execution_count": null,
      "id": "ded313c7",
      "metadata": {
        "id": "ded313c7"
      },
      "outputs": [],
      "source": [
        "Weekly_Expenditure_by_Age = cleanData[['Age','Weekly_Expenditure']].groupby('Age').agg('mean')\n"
      ]
    },
    {
      "cell_type": "code",
      "execution_count": null,
      "id": "eaf8d96b",
      "metadata": {
        "id": "eaf8d96b"
      },
      "outputs": [],
      "source": [
        "Weekly_Expenditure_by_Average_Income = cleanData[['Average_Income','Weekly_Expenditure']].groupby('Average_Income').agg('mean')\n"
      ]
    },
    {
      "cell_type": "code",
      "execution_count": null,
      "id": "bb7715b2",
      "metadata": {
        "id": "bb7715b2"
      },
      "outputs": [],
      "source": []
    }
  ],
  "metadata": {
    "colab": {
      "provenance": []
    },
    "kernelspec": {
      "display_name": "Python 3 (ipykernel)",
      "language": "python",
      "name": "python3"
    },
    "language_info": {
      "codemirror_mode": {
        "name": "ipython",
        "version": 3
      },
      "file_extension": ".py",
      "mimetype": "text/x-python",
      "name": "python",
      "nbconvert_exporter": "python",
      "pygments_lexer": "ipython3",
      "version": "3.9.12"
    }
  },
  "nbformat": 4,
  "nbformat_minor": 5
}
